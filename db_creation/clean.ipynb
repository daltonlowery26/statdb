{
 "cells": [
  {
   "cell_type": "markdown",
   "id": "7c964ff8",
   "metadata": {},
   "source": [
    "#### Clean all data for sql database"
   ]
  },
  {
   "cell_type": "code",
   "execution_count": 1,
   "id": "8ca971bb",
   "metadata": {},
   "outputs": [],
   "source": [
    "import pandas as pd\n",
    "import os\n",
    "\n",
    "os.chdir('C:/Database/data/db/')"
   ]
  },
  {
   "cell_type": "code",
   "execution_count": 2,
   "id": "f3b4f8ff",
   "metadata": {},
   "outputs": [],
   "source": [
    "import re\n",
    "import unicodedata\n",
    "def clean_name(name):\n",
    "    # Normalize the string to decompose accented characters\n",
    "    name = unicodedata.normalize('NFKD', name).encode('ascii', 'ignore').decode('utf-8')\n",
    "    # Remove all non-alphanumeric characters\n",
    "    name = re.sub(r'[^a-z\\s]', '', name)\n",
    "    return name"
   ]
  },
  {
   "cell_type": "markdown",
   "id": "046c56a8",
   "metadata": {},
   "source": [
    "#### data_02_24"
   ]
  },
  {
   "cell_type": "code",
   "execution_count": 16,
   "id": "144c0fe7",
   "metadata": {},
   "outputs": [],
   "source": [
    "df = pd.read_csv('fg_00_24.csv')"
   ]
  },
  {
   "cell_type": "code",
   "execution_count": 17,
   "id": "cd593d5d",
   "metadata": {},
   "outputs": [],
   "source": [
    "df = df[df['Season'] > 2002]\n",
    "df['O-Contact%'] = df['O-Contact%'].dropna() # 2 random nas\n",
    "df = df.dropna(axis=1)\n",
    "df = df.drop(columns=[\"BsR.1\", \"NameASCII\", \"PlayerId\", \"MLBAMID\", 'Team'])\n",
    "df['Name'] = df['Name'].str.lower()\n",
    "df['Name'] = df['Name'].apply(clean_name)\n"
   ]
  },
  {
   "cell_type": "code",
   "execution_count": 18,
   "id": "baeb53c2",
   "metadata": {},
   "outputs": [],
   "source": [
    "df.to_csv('data_02_24.csv', index=False)"
   ]
  },
  {
   "cell_type": "markdown",
   "id": "00507754",
   "metadata": {},
   "source": [
    "#### pitch_18_24.csv"
   ]
  },
  {
   "cell_type": "code",
   "execution_count": 3,
   "id": "651475f9",
   "metadata": {},
   "outputs": [],
   "source": [
    "df_pitch = pd.read_csv('pitch_18_24.csv')"
   ]
  },
  {
   "cell_type": "code",
   "execution_count": 4,
   "id": "101eb3fd",
   "metadata": {},
   "outputs": [],
   "source": [
    "df_pitch['pitcher'] = df_pitch['pitcher'].apply(clean_name)\n",
    "df_pitch['batter'] = df_pitch['batter'].apply(str)  \n",
    "df_pitch['batter'] = df_pitch['batter'].apply(clean_name)  \n",
    "df_pitch['game_date'] = pd.to_datetime(df_pitch['game_date']).dt.year"
   ]
  },
  {
   "cell_type": "code",
   "execution_count": 5,
   "id": "05d394a0",
   "metadata": {},
   "outputs": [],
   "source": [
    "df_pitch.to_csv('pitch_18_24.csv', index=False)"
   ]
  },
  {
   "cell_type": "markdown",
   "id": "ca8547c1",
   "metadata": {},
   "source": [
    "#### swing values"
   ]
  },
  {
   "cell_type": "code",
   "execution_count": 3,
   "id": "0079ef1f",
   "metadata": {},
   "outputs": [],
   "source": [
    "swing = pd.read_csv('swing_values.csv')"
   ]
  },
  {
   "cell_type": "code",
   "execution_count": 4,
   "id": "aa16a938",
   "metadata": {},
   "outputs": [],
   "source": [
    "swing['batter'] = swing['batter'].apply(clean_name)\n",
    "swing['pitch_count'] = swing['pitch_count'].apply(int)\n",
    "swing = swing.drop(columns=['Unnamed: 0'])\n",
    "swing.to_csv('swing_values.csv', index=False)"
   ]
  },
  {
   "cell_type": "markdown",
   "id": "bf289428",
   "metadata": {},
   "source": [
    "### bat tracking"
   ]
  },
  {
   "cell_type": "code",
   "execution_count": 25,
   "id": "418dba13",
   "metadata": {},
   "outputs": [],
   "source": [
    "acc_time_speed = pd.read_csv('bat_tracking.csv')"
   ]
  },
  {
   "cell_type": "code",
   "execution_count": null,
   "id": "eb052992",
   "metadata": {},
   "outputs": [],
   "source": [
    "acc_time_speed = acc_time_speed.rename(columns={'last_name, first_name':'Hitter'})\n",
    "acc_time_speed['Hitter'] = acc_time_speed['Hitter'].str.lower()\n",
    "acc_time_speed['Hitter'] = acc_time_speed['Hitter'].apply(clean_name)\n",
    "acc_time_speed['Hitter'] = acc_time_speed['Hitter'].apply(lambda x: ' '.join(x.split()[::-1]))\n",
    "acc_time_speed['Time_To_Contact'] = 1.3636 * (acc_time_speed['avg_swing_length'] / acc_time_speed['avg_swing_speed']) # based on time to contact work at driveline\n",
    "acc_time_speed = acc_time_speed.dropna()\n",
    "acc_time_speed['swords'] = acc_time_speed['swords'].apply(int)"
   ]
  },
  {
   "cell_type": "code",
   "execution_count": 28,
   "id": "eb0d510f",
   "metadata": {},
   "outputs": [],
   "source": [
    "acc_time_speed.to_csv('bat_tracking.csv', index=False)"
   ]
  },
  {
   "cell_type": "markdown",
   "id": "c879c19d",
   "metadata": {},
   "source": [
    "#### stc 15_24"
   ]
  },
  {
   "cell_type": "code",
   "execution_count": 6,
   "id": "ff5e471f",
   "metadata": {},
   "outputs": [],
   "source": [
    "stc = pd.read_csv('stc_15_24.csv')\n",
    "stc = stc.drop(columns=[\"player_id\"])\n",
    "stc = stc.rename(columns={'last_name, first_name':'Hitter'})\n",
    "stc['Hitter'] = stc['Hitter'].str.lower()\n",
    "stc['Hitter'] = stc['Hitter'].apply(clean_name)\n",
    "stc['Hitter'] = stc['Hitter'].apply(lambda x: ' '.join(x.split()[::-1]))\n",
    "stc = stc.rename(columns={'Hitter':'Name'})"
   ]
  },
  {
   "cell_type": "code",
   "execution_count": 7,
   "id": "234dacb8",
   "metadata": {},
   "outputs": [],
   "source": [
    "stc.to_csv('stc_15_24.csv', index=False)"
   ]
  }
 ],
 "metadata": {
  "kernelspec": {
   "display_name": "base",
   "language": "python",
   "name": "python3"
  },
  "language_info": {
   "codemirror_mode": {
    "name": "ipython",
    "version": 3
   },
   "file_extension": ".py",
   "mimetype": "text/x-python",
   "name": "python",
   "nbconvert_exporter": "python",
   "pygments_lexer": "ipython3",
   "version": "3.12.7"
  }
 },
 "nbformat": 4,
 "nbformat_minor": 5
}
